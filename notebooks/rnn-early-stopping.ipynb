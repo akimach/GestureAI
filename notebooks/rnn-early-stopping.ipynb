{
 "cells": [
  {
   "cell_type": "markdown",
   "metadata": {},
   "source": [
    "# Train RNN with Early Stopping"
   ]
  },
  {
   "cell_type": "code",
   "execution_count": 1,
   "metadata": {},
   "outputs": [],
   "source": [
    "from __future__ import absolute_import\n",
    "from __future__ import division\n",
    "from __future__ import print_function"
   ]
  },
  {
   "cell_type": "code",
   "execution_count": 2,
   "metadata": {},
   "outputs": [],
   "source": [
    "import sys\n",
    "sys.path.append('../src/')"
   ]
  },
  {
   "cell_type": "code",
   "execution_count": 3,
   "metadata": {},
   "outputs": [],
   "source": [
    "import numpy as np\n",
    "seed = 1234\n",
    "np.random.seed(seed)\n",
    "import matplotlib.pyplot as plt\n",
    "\n",
    "%matplotlib inline"
   ]
  },
  {
   "cell_type": "code",
   "execution_count": 4,
   "metadata": {},
   "outputs": [
    {
     "name": "stderr",
     "output_type": "stream",
     "text": [
      "Using TensorFlow backend.\n"
     ]
    }
   ],
   "source": [
    "from IPython.display import SVG\n",
    "from sklearn.utils import shuffle\n",
    "from keras.utils.visualize_util import model_to_dot\n",
    "from keras.callbacks import EarlyStopping"
   ]
  },
  {
   "cell_type": "code",
   "execution_count": 5,
   "metadata": {},
   "outputs": [],
   "source": [
    "from gestureai import load_dataset, rnn"
   ]
  },
  {
   "cell_type": "markdown",
   "metadata": {},
   "source": [
    "# Hypter-parameters"
   ]
  },
  {
   "cell_type": "code",
   "execution_count": 6,
   "metadata": {},
   "outputs": [],
   "source": [
    "input_dim = 3\n",
    "timesteps = 40\n",
    "n_classes = 5\n",
    "n_files_class = 200\n",
    "batch_size = 20\n",
    "max_epochs = 999\n",
    "n_hidden = 512\n",
    "rnn_cell = 'GRU'\n",
    "coreml = True"
   ]
  },
  {
   "cell_type": "markdown",
   "metadata": {},
   "source": [
    "# Load Datasets"
   ]
  },
  {
   "cell_type": "code",
   "execution_count": 7,
   "metadata": {},
   "outputs": [],
   "source": [
    "X = load_dataset('../datasets/gesture-3axis-accel.tar.gz')"
   ]
  },
  {
   "cell_type": "code",
   "execution_count": 8,
   "metadata": {},
   "outputs": [],
   "source": [
    "y = np.array([])\n",
    "for i in range(n_classes):\n",
    "    y = np.r_[y, [i] * n_files_class]"
   ]
  },
  {
   "cell_type": "code",
   "execution_count": 9,
   "metadata": {},
   "outputs": [],
   "source": [
    "X, y = shuffle(X, y)"
   ]
  },
  {
   "cell_type": "markdown",
   "metadata": {},
   "source": [
    "# Build RNN"
   ]
  },
  {
   "cell_type": "code",
   "execution_count": 10,
   "metadata": {},
   "outputs": [],
   "source": [
    "early_stopping = EarlyStopping(monitor='val_loss', patience=10, verbose=1)"
   ]
  },
  {
   "cell_type": "code",
   "execution_count": 11,
   "metadata": {},
   "outputs": [],
   "source": [
    "model = rnn(rnn_cell=rnn_cell, n_hidden=n_hidden, coreml=True)"
   ]
  },
  {
   "cell_type": "code",
   "execution_count": 12,
   "metadata": {},
   "outputs": [
    {
     "name": "stdout",
     "output_type": "stream",
     "text": [
      "____________________________________________________________________________________________________\n",
      "Layer (type)                     Output Shape          Param #     Connected to                     \n",
      "====================================================================================================\n",
      "reshape_1 (Reshape)              (None, 40, 3)         0           reshape_input_1[0][0]            \n",
      "____________________________________________________________________________________________________\n",
      "gru_1 (GRU)                      (None, 512)           792576      reshape_1[0][0]                  \n",
      "____________________________________________________________________________________________________\n",
      "dense_1 (Dense)                  (None, 5)             2565        gru_1[0][0]                      \n",
      "____________________________________________________________________________________________________\n",
      "activation_1 (Activation)        (None, 5)             0           dense_1[0][0]                    \n",
      "====================================================================================================\n",
      "Total params: 795,141\n",
      "Trainable params: 795,141\n",
      "Non-trainable params: 0\n",
      "____________________________________________________________________________________________________\n"
     ]
    }
   ],
   "source": [
    "model.summary()"
   ]
  },
  {
   "cell_type": "code",
   "execution_count": 13,
   "metadata": {},
   "outputs": [
    {
     "data": {
      "image/svg+xml": [
       "<svg height=\"377pt\" viewBox=\"0.00 0.00 325.43 377.00\" width=\"325pt\" xmlns=\"http://www.w3.org/2000/svg\" xmlns:xlink=\"http://www.w3.org/1999/xlink\">\n",
       "<g class=\"graph\" id=\"graph0\" transform=\"scale(1 1) rotate(0) translate(4 373)\">\n",
       "<title>G</title>\n",
       "<polygon fill=\"#ffffff\" points=\"-4,4 -4,-373 321.4316,-373 321.4316,4 -4,4\" stroke=\"transparent\"/>\n",
       "<!-- 4484507216 -->\n",
       "<g class=\"node\" id=\"node1\">\n",
       "<title>4484507216</title>\n",
       "<polygon fill=\"none\" points=\"0,-324.5 0,-368.5 317.4316,-368.5 317.4316,-324.5 0,-324.5\" stroke=\"#000000\"/>\n",
       "<text fill=\"#000000\" font-family=\"Times,serif\" font-size=\"14.00\" text-anchor=\"middle\" x=\"89.0571\" y=\"-342.3\">reshape_input_1: InputLayer</text>\n",
       "<polyline fill=\"none\" points=\"178.1143,-324.5 178.1143,-368.5 \" stroke=\"#000000\"/>\n",
       "<text fill=\"#000000\" font-family=\"Times,serif\" font-size=\"14.00\" text-anchor=\"middle\" x=\"205.9487\" y=\"-353.3\">input:</text>\n",
       "<polyline fill=\"none\" points=\"178.1143,-346.5 233.7832,-346.5 \" stroke=\"#000000\"/>\n",
       "<text fill=\"#000000\" font-family=\"Times,serif\" font-size=\"14.00\" text-anchor=\"middle\" x=\"205.9487\" y=\"-331.3\">output:</text>\n",
       "<polyline fill=\"none\" points=\"233.7832,-324.5 233.7832,-368.5 \" stroke=\"#000000\"/>\n",
       "<text fill=\"#000000\" font-family=\"Times,serif\" font-size=\"14.00\" text-anchor=\"middle\" x=\"275.6074\" y=\"-353.3\">(None, 120)</text>\n",
       "<polyline fill=\"none\" points=\"233.7832,-346.5 317.4316,-346.5 \" stroke=\"#000000\"/>\n",
       "<text fill=\"#000000\" font-family=\"Times,serif\" font-size=\"14.00\" text-anchor=\"middle\" x=\"275.6074\" y=\"-331.3\">(None, 120)</text>\n",
       "</g>\n",
       "<!-- 4484507024 -->\n",
       "<g class=\"node\" id=\"node2\">\n",
       "<title>4484507024</title>\n",
       "<polygon fill=\"none\" points=\"21.7725,-243.5 21.7725,-287.5 295.6592,-287.5 295.6592,-243.5 21.7725,-243.5\" stroke=\"#000000\"/>\n",
       "<text fill=\"#000000\" font-family=\"Times,serif\" font-size=\"14.00\" text-anchor=\"middle\" x=\"85.5571\" y=\"-261.3\">reshape_1: Reshape</text>\n",
       "<polyline fill=\"none\" points=\"149.3418,-243.5 149.3418,-287.5 \" stroke=\"#000000\"/>\n",
       "<text fill=\"#000000\" font-family=\"Times,serif\" font-size=\"14.00\" text-anchor=\"middle\" x=\"177.1763\" y=\"-272.3\">input:</text>\n",
       "<polyline fill=\"none\" points=\"149.3418,-265.5 205.0107,-265.5 \" stroke=\"#000000\"/>\n",
       "<text fill=\"#000000\" font-family=\"Times,serif\" font-size=\"14.00\" text-anchor=\"middle\" x=\"177.1763\" y=\"-250.3\">output:</text>\n",
       "<polyline fill=\"none\" points=\"205.0107,-243.5 205.0107,-287.5 \" stroke=\"#000000\"/>\n",
       "<text fill=\"#000000\" font-family=\"Times,serif\" font-size=\"14.00\" text-anchor=\"middle\" x=\"250.335\" y=\"-272.3\">(None, 120)</text>\n",
       "<polyline fill=\"none\" points=\"205.0107,-265.5 295.6592,-265.5 \" stroke=\"#000000\"/>\n",
       "<text fill=\"#000000\" font-family=\"Times,serif\" font-size=\"14.00\" text-anchor=\"middle\" x=\"250.335\" y=\"-250.3\">(None, 40, 3)</text>\n",
       "</g>\n",
       "<!-- 4484507216&#45;&gt;4484507024 -->\n",
       "<g class=\"edge\" id=\"edge1\">\n",
       "<title>4484507216-&gt;4484507024</title>\n",
       "<path d=\"M158.7158,-324.3664C158.7158,-316.1516 158.7158,-306.6579 158.7158,-297.7252\" fill=\"none\" stroke=\"#000000\"/>\n",
       "<polygon fill=\"#000000\" points=\"162.2159,-297.6068 158.7158,-287.6068 155.2159,-297.6069 162.2159,-297.6068\" stroke=\"#000000\"/>\n",
       "</g>\n",
       "<!-- 4484506512 -->\n",
       "<g class=\"node\" id=\"node3\">\n",
       "<title>4484506512</title>\n",
       "<polygon fill=\"none\" points=\"42.752,-162.5 42.752,-206.5 274.6797,-206.5 274.6797,-162.5 42.752,-162.5\" stroke=\"#000000\"/>\n",
       "<text fill=\"#000000\" font-family=\"Times,serif\" font-size=\"14.00\" text-anchor=\"middle\" x=\"85.5571\" y=\"-180.3\">gru_1: GRU</text>\n",
       "<polyline fill=\"none\" points=\"128.3623,-162.5 128.3623,-206.5 \" stroke=\"#000000\"/>\n",
       "<text fill=\"#000000\" font-family=\"Times,serif\" font-size=\"14.00\" text-anchor=\"middle\" x=\"156.1968\" y=\"-191.3\">input:</text>\n",
       "<polyline fill=\"none\" points=\"128.3623,-184.5 184.0313,-184.5 \" stroke=\"#000000\"/>\n",
       "<text fill=\"#000000\" font-family=\"Times,serif\" font-size=\"14.00\" text-anchor=\"middle\" x=\"156.1968\" y=\"-169.3\">output:</text>\n",
       "<polyline fill=\"none\" points=\"184.0313,-162.5 184.0313,-206.5 \" stroke=\"#000000\"/>\n",
       "<text fill=\"#000000\" font-family=\"Times,serif\" font-size=\"14.00\" text-anchor=\"middle\" x=\"229.3555\" y=\"-191.3\">(None, 40, 3)</text>\n",
       "<polyline fill=\"none\" points=\"184.0313,-184.5 274.6797,-184.5 \" stroke=\"#000000\"/>\n",
       "<text fill=\"#000000\" font-family=\"Times,serif\" font-size=\"14.00\" text-anchor=\"middle\" x=\"229.3555\" y=\"-169.3\">(None, 512)</text>\n",
       "</g>\n",
       "<!-- 4484507024&#45;&gt;4484506512 -->\n",
       "<g class=\"edge\" id=\"edge2\">\n",
       "<title>4484507024-&gt;4484506512</title>\n",
       "<path d=\"M158.7158,-243.3664C158.7158,-235.1516 158.7158,-225.6579 158.7158,-216.7252\" fill=\"none\" stroke=\"#000000\"/>\n",
       "<polygon fill=\"#000000\" points=\"162.2159,-216.6068 158.7158,-206.6068 155.2159,-216.6069 162.2159,-216.6068\" stroke=\"#000000\"/>\n",
       "</g>\n",
       "<!-- 4485713424 -->\n",
       "<g class=\"node\" id=\"node4\">\n",
       "<title>4485713424</title>\n",
       "<polygon fill=\"none\" points=\"36.9312,-81.5 36.9312,-125.5 280.5005,-125.5 280.5005,-81.5 36.9312,-81.5\" stroke=\"#000000\"/>\n",
       "<text fill=\"#000000\" font-family=\"Times,serif\" font-size=\"14.00\" text-anchor=\"middle\" x=\"89.0571\" y=\"-99.3\">dense_1: Dense</text>\n",
       "<polyline fill=\"none\" points=\"141.1831,-81.5 141.1831,-125.5 \" stroke=\"#000000\"/>\n",
       "<text fill=\"#000000\" font-family=\"Times,serif\" font-size=\"14.00\" text-anchor=\"middle\" x=\"169.0176\" y=\"-110.3\">input:</text>\n",
       "<polyline fill=\"none\" points=\"141.1831,-103.5 196.8521,-103.5 \" stroke=\"#000000\"/>\n",
       "<text fill=\"#000000\" font-family=\"Times,serif\" font-size=\"14.00\" text-anchor=\"middle\" x=\"169.0176\" y=\"-88.3\">output:</text>\n",
       "<polyline fill=\"none\" points=\"196.8521,-81.5 196.8521,-125.5 \" stroke=\"#000000\"/>\n",
       "<text fill=\"#000000\" font-family=\"Times,serif\" font-size=\"14.00\" text-anchor=\"middle\" x=\"238.6763\" y=\"-110.3\">(None, 512)</text>\n",
       "<polyline fill=\"none\" points=\"196.8521,-103.5 280.5005,-103.5 \" stroke=\"#000000\"/>\n",
       "<text fill=\"#000000\" font-family=\"Times,serif\" font-size=\"14.00\" text-anchor=\"middle\" x=\"238.6763\" y=\"-88.3\">(None, 5)</text>\n",
       "</g>\n",
       "<!-- 4484506512&#45;&gt;4485713424 -->\n",
       "<g class=\"edge\" id=\"edge3\">\n",
       "<title>4484506512-&gt;4485713424</title>\n",
       "<path d=\"M158.7158,-162.3664C158.7158,-154.1516 158.7158,-144.6579 158.7158,-135.7252\" fill=\"none\" stroke=\"#000000\"/>\n",
       "<polygon fill=\"#000000\" points=\"162.2159,-135.6068 158.7158,-125.6068 155.2159,-135.6069 162.2159,-135.6068\" stroke=\"#000000\"/>\n",
       "</g>\n",
       "<!-- 4485930960 -->\n",
       "<g class=\"node\" id=\"node5\">\n",
       "<title>4485930960</title>\n",
       "<polygon fill=\"none\" points=\"20.5967,-.5 20.5967,-44.5 296.835,-44.5 296.835,-.5 20.5967,-.5\" stroke=\"#000000\"/>\n",
       "<text fill=\"#000000\" font-family=\"Times,serif\" font-size=\"14.00\" text-anchor=\"middle\" x=\"96.0571\" y=\"-18.3\">activation_1: Activation</text>\n",
       "<polyline fill=\"none\" points=\"171.5176,-.5 171.5176,-44.5 \" stroke=\"#000000\"/>\n",
       "<text fill=\"#000000\" font-family=\"Times,serif\" font-size=\"14.00\" text-anchor=\"middle\" x=\"199.3521\" y=\"-29.3\">input:</text>\n",
       "<polyline fill=\"none\" points=\"171.5176,-22.5 227.1865,-22.5 \" stroke=\"#000000\"/>\n",
       "<text fill=\"#000000\" font-family=\"Times,serif\" font-size=\"14.00\" text-anchor=\"middle\" x=\"199.3521\" y=\"-7.3\">output:</text>\n",
       "<polyline fill=\"none\" points=\"227.1865,-.5 227.1865,-44.5 \" stroke=\"#000000\"/>\n",
       "<text fill=\"#000000\" font-family=\"Times,serif\" font-size=\"14.00\" text-anchor=\"middle\" x=\"262.0107\" y=\"-29.3\">(None, 5)</text>\n",
       "<polyline fill=\"none\" points=\"227.1865,-22.5 296.835,-22.5 \" stroke=\"#000000\"/>\n",
       "<text fill=\"#000000\" font-family=\"Times,serif\" font-size=\"14.00\" text-anchor=\"middle\" x=\"262.0107\" y=\"-7.3\">(None, 5)</text>\n",
       "</g>\n",
       "<!-- 4485713424&#45;&gt;4485930960 -->\n",
       "<g class=\"edge\" id=\"edge4\">\n",
       "<title>4485713424-&gt;4485930960</title>\n",
       "<path d=\"M158.7158,-81.3664C158.7158,-73.1516 158.7158,-63.6579 158.7158,-54.7252\" fill=\"none\" stroke=\"#000000\"/>\n",
       "<polygon fill=\"#000000\" points=\"162.2159,-54.6068 158.7158,-44.6068 155.2159,-54.6069 162.2159,-54.6068\" stroke=\"#000000\"/>\n",
       "</g>\n",
       "</g>\n",
       "</svg>"
      ],
      "text/plain": [
       "<IPython.core.display.SVG object>"
      ]
     },
     "execution_count": 13,
     "metadata": {},
     "output_type": "execute_result"
    }
   ],
   "source": [
    "SVG(model_to_dot(model, show_layer_names=True, show_shapes=True).create(prog='dot', format='svg'))"
   ]
  },
  {
   "cell_type": "markdown",
   "metadata": {},
   "source": [
    "# Train RNN"
   ]
  },
  {
   "cell_type": "code",
   "execution_count": 14,
   "metadata": {
    "collapsed": true
   },
   "outputs": [],
   "source": [
    "if coreml:\n",
    "    X = X.reshape(X.shape[0], X.shape[1]*X.shape[2])"
   ]
  },
  {
   "cell_type": "code",
   "execution_count": 15,
   "metadata": {
    "scrolled": true
   },
   "outputs": [
    {
     "name": "stdout",
     "output_type": "stream",
     "text": [
      "Train on 900 samples, validate on 100 samples\n",
      "Epoch 1/999\n",
      "900/900 [==============================] - 2s - loss: 1.6388 - acc: 0.2278 - val_loss: 1.5925 - val_acc: 0.2600\n",
      "Epoch 2/999\n",
      "900/900 [==============================] - 1s - loss: 1.6064 - acc: 0.2278 - val_loss: 1.6060 - val_acc: 0.2800\n",
      "Epoch 3/999\n",
      "900/900 [==============================] - 1s - loss: 1.6423 - acc: 0.2311 - val_loss: 1.5446 - val_acc: 0.2800\n",
      "Epoch 4/999\n",
      "900/900 [==============================] - 1s - loss: 1.5356 - acc: 0.3244 - val_loss: 1.5777 - val_acc: 0.2900\n",
      "Epoch 5/999\n",
      "900/900 [==============================] - 1s - loss: 1.4438 - acc: 0.3844 - val_loss: 1.2621 - val_acc: 0.3700\n",
      "Epoch 6/999\n",
      "900/900 [==============================] - 1s - loss: 1.3498 - acc: 0.4133 - val_loss: 1.3192 - val_acc: 0.4400\n",
      "Epoch 7/999\n",
      "900/900 [==============================] - 2s - loss: 1.3178 - acc: 0.4378 - val_loss: 1.1143 - val_acc: 0.6100\n",
      "Epoch 8/999\n",
      "900/900 [==============================] - 2s - loss: 1.1948 - acc: 0.4867 - val_loss: 1.0805 - val_acc: 0.5200\n",
      "Epoch 9/999\n",
      "900/900 [==============================] - 2s - loss: 1.1646 - acc: 0.5111 - val_loss: 0.9305 - val_acc: 0.6200\n",
      "Epoch 10/999\n",
      "900/900 [==============================] - 1s - loss: 1.0723 - acc: 0.5644 - val_loss: 0.8500 - val_acc: 0.6800\n",
      "Epoch 11/999\n",
      "900/900 [==============================] - 2s - loss: 1.0193 - acc: 0.5900 - val_loss: 0.9443 - val_acc: 0.7000\n",
      "Epoch 12/999\n",
      "900/900 [==============================] - 2s - loss: 0.8902 - acc: 0.6778 - val_loss: 0.7198 - val_acc: 0.7200\n",
      "Epoch 13/999\n",
      "900/900 [==============================] - 3s - loss: 0.8128 - acc: 0.7056 - val_loss: 1.0769 - val_acc: 0.6000\n",
      "Epoch 14/999\n",
      "900/900 [==============================] - 2s - loss: 0.7391 - acc: 0.7367 - val_loss: 0.7404 - val_acc: 0.7300\n",
      "Epoch 15/999\n",
      "900/900 [==============================] - 2s - loss: 0.6564 - acc: 0.7622 - val_loss: 0.6234 - val_acc: 0.7800\n",
      "Epoch 16/999\n",
      "900/900 [==============================] - 2s - loss: 0.5951 - acc: 0.7933 - val_loss: 0.4675 - val_acc: 0.8600\n",
      "Epoch 17/999\n",
      "900/900 [==============================] - 2s - loss: 0.5246 - acc: 0.8211 - val_loss: 0.4034 - val_acc: 0.8700\n",
      "Epoch 18/999\n",
      "900/900 [==============================] - 2s - loss: 0.4889 - acc: 0.8389 - val_loss: 0.5665 - val_acc: 0.8600\n",
      "Epoch 19/999\n",
      "900/900 [==============================] - 2s - loss: 0.4421 - acc: 0.8533 - val_loss: 0.3804 - val_acc: 0.8700\n",
      "Epoch 20/999\n",
      "900/900 [==============================] - 2s - loss: 0.4057 - acc: 0.8556 - val_loss: 0.3385 - val_acc: 0.9200\n",
      "Epoch 21/999\n",
      "900/900 [==============================] - 2s - loss: 0.3738 - acc: 0.8778 - val_loss: 0.4427 - val_acc: 0.8500\n",
      "Epoch 22/999\n",
      "900/900 [==============================] - 3s - loss: 0.3320 - acc: 0.8900 - val_loss: 0.2694 - val_acc: 0.9400\n",
      "Epoch 23/999\n",
      "900/900 [==============================] - 2s - loss: 0.3048 - acc: 0.9100 - val_loss: 0.3121 - val_acc: 0.9000\n",
      "Epoch 24/999\n",
      "900/900 [==============================] - 2s - loss: 0.2679 - acc: 0.9056 - val_loss: 0.2683 - val_acc: 0.9500\n",
      "Epoch 25/999\n",
      "900/900 [==============================] - 2s - loss: 0.2223 - acc: 0.9300 - val_loss: 0.3231 - val_acc: 0.8900\n",
      "Epoch 26/999\n",
      "900/900 [==============================] - 2s - loss: 0.2159 - acc: 0.9233 - val_loss: 0.2107 - val_acc: 0.9400\n",
      "Epoch 27/999\n",
      "900/900 [==============================] - 1s - loss: 0.1845 - acc: 0.9444 - val_loss: 0.2112 - val_acc: 0.9500\n",
      "Epoch 28/999\n",
      "900/900 [==============================] - 2s - loss: 0.1721 - acc: 0.9444 - val_loss: 0.4696 - val_acc: 0.8800\n",
      "Epoch 29/999\n",
      "900/900 [==============================] - 2s - loss: 0.1798 - acc: 0.9467 - val_loss: 0.4808 - val_acc: 0.8500\n",
      "Epoch 30/999\n",
      "900/900 [==============================] - 3s - loss: 0.1561 - acc: 0.9533 - val_loss: 0.2384 - val_acc: 0.9500\n",
      "Epoch 31/999\n",
      "900/900 [==============================] - 2s - loss: 0.1249 - acc: 0.9689 - val_loss: 0.2476 - val_acc: 0.9400\n",
      "Epoch 32/999\n",
      "900/900 [==============================] - 2s - loss: 0.1354 - acc: 0.9656 - val_loss: 0.2619 - val_acc: 0.9600\n",
      "Epoch 33/999\n",
      "900/900 [==============================] - 2s - loss: 0.1275 - acc: 0.9622 - val_loss: 0.2442 - val_acc: 0.9200\n",
      "Epoch 34/999\n",
      "900/900 [==============================] - 2s - loss: 0.0811 - acc: 0.9778 - val_loss: 0.2162 - val_acc: 0.9500\n",
      "Epoch 35/999\n",
      "900/900 [==============================] - 2s - loss: 0.1247 - acc: 0.9600 - val_loss: 0.3245 - val_acc: 0.9200\n",
      "Epoch 36/999\n",
      "900/900 [==============================] - 2s - loss: 0.0986 - acc: 0.9733 - val_loss: 0.2819 - val_acc: 0.9300\n",
      "Epoch 37/999\n",
      "900/900 [==============================] - 2s - loss: 0.0895 - acc: 0.9789 - val_loss: 0.3552 - val_acc: 0.9300\n",
      "Epoch 00036: early stopping\n"
     ]
    }
   ],
   "source": [
    "history = model.fit(X, y, batch_size=batch_size, validation_split=0.1, callbacks=[early_stopping], \n",
    "                    nb_epoch=max_epochs, verbose=1)"
   ]
  },
  {
   "cell_type": "markdown",
   "metadata": {},
   "source": [
    "## Plot Accuray"
   ]
  },
  {
   "cell_type": "code",
   "execution_count": 16,
   "metadata": {},
   "outputs": [
    {
     "data": {
      "text/plain": [
       "<matplotlib.legend.Legend at 0x7fa378d28110>"
      ]
     },
     "execution_count": 16,
     "metadata": {},
     "output_type": "execute_result"
    },
    {
     "data": {
      "image/png": "[encoded data removed]",
      "text/plain": [
       "<matplotlib.figure.Figure at 0x7fa30044c150>"
      ]
     },
     "metadata": {},
     "output_type": "display_data"
    }
   ],
   "source": [
    "plt.title('Model accuracy')\n",
    "plt.xlabel('Epoch')\n",
    "plt.ylabel('Accuracy')\n",
    "plt.grid()\n",
    "plt.plot(history.history['acc'], label='acc')\n",
    "plt.plot(history.history['val_acc'], label='val_acc')\n",
    "plt.legend()"
   ]
  },
  {
   "cell_type": "markdown",
   "metadata": {},
   "source": [
    "## Plot Loss"
   ]
  },
  {
   "cell_type": "code",
   "execution_count": 17,
   "metadata": {},
   "outputs": [
    {
     "data": {
      "text/plain": [
       "<matplotlib.legend.Legend at 0x7fa2f86aa990>"
      ]
     },
     "execution_count": 17,
     "metadata": {},
     "output_type": "execute_result"
    },
    {
     "data": {
      "image/png": "[encoded data removed]",
      "text/plain": [
       "<matplotlib.figure.Figure at 0x7fa2f8765510>"
      ]
     },
     "metadata": {},
     "output_type": "display_data"
    }
   ],
   "source": [
    "plt.title('Model loss')\n",
    "plt.xlabel('Epoch')\n",
    "plt.ylabel('Loss')\n",
    "plt.grid()\n",
    "plt.plot(history.history['loss'], label='loss')\n",
    "plt.plot(history.history['val_loss'], label='val_loss')\n",
    "plt.legend()"
   ]
  },
  {
   "cell_type": "markdown",
   "metadata": {},
   "source": [
    "# Save model"
   ]
  },
  {
   "cell_type": "code",
   "execution_count": 18,
   "metadata": {
    "collapsed": true
   },
   "outputs": [],
   "source": [
    "model.save('../models/GestureAI.h5')"
   ]
  },
  {
   "cell_type": "code",
   "execution_count": 19,
   "metadata": {
    "collapsed": true
   },
   "outputs": [],
   "source": [
    "model.save_weights('../models/GestureAI_weights.h5')"
   ]
  },
  {
   "cell_type": "markdown",
   "metadata": {},
   "source": [
    "## Convert Model to .mlmodel"
   ]
  },
  {
   "cell_type": "code",
   "execution_count": 20,
   "metadata": {
    "collapsed": true
   },
   "outputs": [],
   "source": [
    "import coremltools"
   ]
  },
  {
   "cell_type": "code",
   "execution_count": 21,
   "metadata": {},
   "outputs": [
    {
     "name": "stdout",
     "output_type": "stream",
     "text": [
      "0 : reshape_input_1, <keras.engine.topology.InputLayer object at 0x7fa3036b0cd0>\n",
      "1 : reshape_1, <keras.layers.core.Reshape object at 0x7fa3036b0d10>\n",
      "2 : gru_1, <keras.layers.recurrent.GRU object at 0x7fa3036b0e90>\n",
      "3 : dense_1, <keras.layers.core.Dense object at 0x7fa3035ef910>\n",
      "4 : activation_1, <keras.layers.core.Activation object at 0x7fa303489cd0>\n"
     ]
    }
   ],
   "source": [
    "coreml_model =coremltools.converters.keras.convert(model)\n",
    "coreml_model.author = 'Akimasa KIMURA'\n",
    "coreml_model.license = 'MIT'\n",
    "coreml_model.short_description = 'GestureAI'\n",
    "coreml_model.save('../models/GestureAI.mlmodel')"
   ]
  },
  {
   "cell_type": "markdown",
   "metadata": {},
   "source": [
    "---"
   ]
  }
 ],
 "metadata": {
  "kernelspec": {
   "display_name": "Python 2",
   "language": "python",
   "name": "python2"
  },
  "language_info": {
   "codemirror_mode": {
    "name": "ipython",
    "version": 2
   },
   "file_extension": ".py",
   "mimetype": "text/x-python",
   "name": "python",
   "nbconvert_exporter": "python",
   "pygments_lexer": "ipython2",
   "version": "2.7.13"
  }
 },
 "nbformat": 4,
 "nbformat_minor": 2
}
